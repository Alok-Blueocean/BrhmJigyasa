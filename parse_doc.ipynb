{
 "cells": [
  {
   "cell_type": "code",
   "execution_count": 2,
   "id": "hired-european",
   "metadata": {},
   "outputs": [
    {
     "name": "stdout",
     "output_type": "stream",
     "text": [
      "Defaulting to user installation because normal site-packages is not writeable\n",
      "Collecting pdfplumber\n",
      "  Downloading pdfplumber-0.5.26.tar.gz (43 kB)\n",
      "\u001b[K     |████████████████████████████████| 43 kB 77 kB/s  eta 0:00:01\n",
      "\u001b[?25hRequirement already satisfied: Pillow>=7.0.0 in /usr/lib/python3/dist-packages (from pdfplumber) (7.0.0)\n",
      "Collecting Wand\n",
      "  Using cached Wand-0.6.5-py2.py3-none-any.whl (138 kB)\n",
      "Collecting pdfminer.six==20200517\n",
      "  Using cached pdfminer.six-20200517-py3-none-any.whl (5.6 MB)\n",
      "Collecting pycryptodome\n",
      "  Downloading pycryptodome-3.10.1-cp35-abi3-manylinux2010_x86_64.whl (1.9 MB)\n",
      "\u001b[K     |████████████████████████████████| 1.9 MB 1.6 MB/s eta 0:00:01\n",
      "\u001b[?25hCollecting sortedcontainers\n",
      "  Using cached sortedcontainers-2.3.0-py2.py3-none-any.whl (29 kB)\n",
      "Requirement already satisfied: chardet in /usr/lib/python3/dist-packages (from pdfminer.six==20200517->pdfplumber) (3.0.4)\n",
      "Building wheels for collected packages: pdfplumber\n",
      "  Building wheel for pdfplumber (setup.py) ... \u001b[?25ldone\n",
      "\u001b[?25h  Created wheel for pdfplumber: filename=pdfplumber-0.5.26-py3-none-any.whl size=31745 sha256=180f4d3ae03e9e61acf7dad2c84149fd169974c383fc0c1f8582c98301d2b015\n",
      "  Stored in directory: /home/nitayananda/.cache/pip/wheels/1c/ed/fa/57b2d72fb6f5ed869d20d56cf20e1637476b0f70a3f0a5ea0c\n",
      "Successfully built pdfplumber\n",
      "Installing collected packages: sortedcontainers, pycryptodome, Wand, pdfminer.six, pdfplumber\n",
      "Successfully installed Wand-0.6.5 pdfminer.six-20200517 pdfplumber-0.5.26 pycryptodome-3.10.1 sortedcontainers-2.3.0\n"
     ]
    }
   ],
   "source": [
    "!pip install pdfplumber"
   ]
  },
  {
   "cell_type": "code",
   "execution_count": 7,
   "id": "bronze-reunion",
   "metadata": {},
   "outputs": [],
   "source": [
    "import pdfplumber\n",
    "import re\n",
    "import json\n",
    "from nltk import pos_tag\n",
    "\n",
    "aux_verbs = ['am', 'is', 'are', 'was', 'were', 'being', 'been', 'be', 'have', 'has', 'had', 'do', 'does', 'did', 'will', 'would', 'shall', 'should', 'may', 'might', 'must', 'can', 'could']\n",
    "\n",
    "pdf_file = \"Krishna & Devotees.docx.pdf\"\n",
    "pdf = pdfplumber.open(pdf_file)\n",
    "pages = pdf.pages    "
   ]
  },
  {
   "cell_type": "code",
   "execution_count": 8,
   "id": "buried-invention",
   "metadata": {},
   "outputs": [
    {
     "name": "stdout",
     "output_type": "stream",
     "text": [
      "Krishna & Devotees \n",
      "Saturday, February 27, 2021 \n",
      "5:41 PM \n",
      " <q> \n",
      "1. What does the word \"transcendental\" mean when \n",
      "indicating the blowing of conchshells of Pandavas ?</q> \n",
      "<a> \n",
      "In contrast with the conchshell blown by Bhéñmadeva, the \n",
      "conchshells in the hands of Kåñëa and Arjuna are described as \n",
      "transcendental. The sounding of the transcendental conchshells \n",
      "indicated that there was no hope of victory for the other side \n",
      "​\n",
      "because Kåñëa was on the side of the Päëòavas. Jayas tu \n",
      "​\n",
      "päëòu-puträëäà yeñäà pakñe janärdanaù. <a> \n",
      "<r> [Bhagavad Gita \n",
      "1.14p]</r> \n",
      " <q>  \n",
      "​\n",
      "2. What were the signs of victory on Pandavas even before \n",
      "the beginning of the Kurukshetra war  - 1? </q> \n",
      "​\n",
      "<a>Victory is always with persons like the sons of Päëòu \n",
      "because Lord Kåñëa is associated with them. And whenever and \n",
      "​\n",
      "wherever the Lord is present, the goddess of fortune is also there \n",
      "because the goddess of fortune never lives alone without her \n",
      "husband. Therefore, victory and fortune were awaiting Arjuna, as \n",
      "indicated by the transcendental sound produced by the \n",
      "conchshell of Viñëu, or Lord Kåñëa. Besides that, the chariot on \n",
      "which both the friends were seated had been donated by Agni \n",
      "(the fire-god) to Arjuna, and this indicated that this chariot was \n",
      "capable of conquering all sides, wherever it was drawn over the \n",
      "three worlds. </a> \n",
      "<r>[Bhagavad Gita 1.14p]</r> \n",
      "<q>  \n",
      "3. Why is Lord Krishna called as Hrishikesha ? How does \n",
      "this refute Mayavadi conception?</q> \n",
      "<a> \n",
      "Lord Kåñëa is referred to as Håñékeça in this verse because He \n",
      "​\n",
      "is the owner of all senses. The living entities are part and parcel \n",
      "​\n",
      "of Him, and therefore the senses of the living entities are also \n",
      "part and parcel of His senses. The impersonalists cannot \n",
      "account for the senses of the living entities, and therefore they \n"
     ]
    }
   ],
   "source": [
    "page = pdf.pages[0]\n",
    "text = page.extract_text()\n",
    "print(text)"
   ]
  },
  {
   "cell_type": "code",
   "execution_count": 10,
   "id": "english-powell",
   "metadata": {},
   "outputs": [
    {
     "name": "stdout",
     "output_type": "stream",
     "text": [
      "Defaulting to user installation because normal site-packages is not writeable\n",
      "Collecting bs4\n",
      "  Using cached bs4-0.0.1-py3-none-any.whl\n",
      "Collecting beautifulsoup4\n",
      "  Using cached beautifulsoup4-4.9.3-py3-none-any.whl (115 kB)\n",
      "Collecting soupsieve>1.2\n",
      "  Using cached soupsieve-2.2-py3-none-any.whl (33 kB)\n",
      "Installing collected packages: soupsieve, beautifulsoup4, bs4\n",
      "Successfully installed beautifulsoup4-4.9.3 bs4-0.0.1 soupsieve-2.2\n"
     ]
    }
   ],
   "source": [
    "!pip install bs4\n",
    "from bs4 import BeautifulSoup"
   ]
  },
  {
   "cell_type": "code",
   "execution_count": 12,
   "id": "atlantic-suspect",
   "metadata": {},
   "outputs": [],
   "source": [
    "soup = BeautifulSoup(text, \"html.parser\")"
   ]
  },
  {
   "cell_type": "code",
   "execution_count": 15,
   "id": "persistent-cooper",
   "metadata": {},
   "outputs": [
    {
     "name": "stdout",
     "output_type": "stream",
     "text": [
      "<q> \n",
      "1. What does the word \"transcendental\" mean when \n",
      "indicating the blowing of conchshells of Pandavas ?</q>\n"
     ]
    }
   ],
   "source": [
    "tags = [tag for tag in soup.find_all()]\n",
    "print(tags[0])"
   ]
  },
  {
   "cell_type": "code",
   "execution_count": 6,
   "id": "binary-titanium",
   "metadata": {},
   "outputs": [
    {
     "data": {
      "text/plain": [
       "['1?', '3. Why is Lord Krishna called as Hrishikesha ?']"
      ]
     },
     "execution_count": 6,
     "metadata": {},
     "output_type": "execute_result"
    }
   ],
   "source": [
    "re.split(\"[0-9].*[?]+\",text)"
   ]
  },
  {
   "cell_type": "code",
   "execution_count": 15,
   "id": "diverse-taste",
   "metadata": {},
   "outputs": [
    {
     "name": "stdout",
     "output_type": "stream",
     "text": [
      "80\n",
      "81\n",
      "82\n",
      "83\n",
      "84\n",
      "85\n",
      "86\n",
      "87\n",
      "88\n",
      "89\n",
      "90\n",
      "91\n",
      "92\n",
      "93\n",
      "94\n",
      "95\n",
      "96\n",
      "97\n",
      "98\n",
      "99\n"
     ]
    }
   ],
   "source": [
    "pageText = \"\"\n",
    "page_texts = []\n",
    "for i in range(80,100):\n",
    "    print(i)\n",
    "    page = pdf.pages[i]\n",
    "    text = page.extract_text()\n",
    "    page_texts.append(text)\n",
    "    pageText = pageText + \"\\n\" + text\n",
    "  "
   ]
  },
  {
   "cell_type": "code",
   "execution_count": 11,
   "id": "israeli-apple",
   "metadata": {},
   "outputs": [],
   "source": [
    "PageTextFilter = re.sub(\"[\\n]?[ ]{0,}?Chapter[ ]{1,3}[0-9]{1,2}[ ]{1,3}Page[ ]{1,3}[0-9]{1,4}[ ]{0,}?[\\n]?\",\"\",pageText)\n",
    "PageTextFilter = re.sub(\"Bg[ ]{1,2}\",\"Bhagavad Gita \",PageTextFilter)\n",
    "sloka_n = re.findall(\"Bhagavad Gita[ ]?[0-9]{1,2}[.][0-9]+[-]?[0-9]?\",PageTextFilter)\n",
    "sloka_n = [slk[0] for slk in sloka_n]\n",
    "slokas = re.split(\"((Bhagavad Gita|Bg)[ ]?[0-9]{1,2}[.][0-9]+[-]?[0-9]?.*)\",PageTextFilter,10)\n",
    "\n",
    "\n",
    "\n"
   ]
  },
  {
   "cell_type": "code",
   "execution_count": 14,
   "id": "adjacent-commitment",
   "metadata": {},
   "outputs": [
    {
     "data": {
      "text/plain": [
       "'\\nEnquiries\\nThursday, June 21, 2018 9:10 PM\\nWhat is the way in which Srila Prabhupada has presented Bhagavad \\nGita or Srimad Bhagavatam ? What is the need for it?\\nWhat is special about ISKCON? What is the response of the world \\nto it?\\nIs ISKCON an invention of Srila Prabhupada ?\\nHow is Srila Prabhupada\\'s Bhagavad Gita different from all other \\nversions? - 1\\nWhat are the WRONG ways in which Bhagavad Gita is being \\npresented? What is the result of such presentation?\\nWhat kind of attitude one should have towards Bhagavad Gita so \\nthat he can reap its full benefit?\\nWhen does Bhagavad Gita reading become offensive?\\nHow is ISKCON & Bhagavad Gita related to each other? - 1\\nWhat the FUNDAMNETAL PRINCIPLES that everyone MUST \\nunderstand from Bhagavad Gita which the mundane interpreters are \\nmisleading by their commentaries ?\\nWhat is the central point of Bhagavad Gita which people are \\nmissing? What is making them miss it?\\nHow is ISKCON & Bhagavad Gita related to each other? - 2\\nWhat is Srila Prabhupada\\'s expectation on the effect of Bhagavad \\nGita As It Is upon the world?\\n    Preface Page 81    \\nIntroduction\\nFriday, March 18, 2016 3:46 PM\\noà ajïäna-timirändhasya\\njïänäïjana-çaläkayä\\ncakñur unmélitaà yena\\ntasmai çré-gurave namaù\\nçré-caitanya-mano-\\'bhéñöaà\\nsthäpitaà yena bhü-tale\\nsvayaà rüpaù kadä mahyaà\\ndadäti sva-padäntikam\\nI was born in the darkest ignorance, and my spiritual master opened my \\neyes with the torch of knowledge. I offer my respectful obeisances unto \\nhim. When will Çréla Rüpa Gosvämé Prabhupäda, who has established \\nwithin this material world the mission to fulfill the desire of Lord Caitanya, \\ngive me shelter under his lotus feet?\\nvande \\'haà çré-guroù çré-yuta-pada-kamalaà çré-gurün vaiñëaväàç ca\\nçré-rüpaà sägrajätaà saha-gaëa-raghunäthänvitaà taà sa-jévam\\nsädvaitaà sävadhütaà parijana-sahitaà kåñëa-caitanya-devaà\\nçré-rädhä-kåñëa-pädän saha-gaëa-lalitä-çré-viçäkhänvitäàç ca\\nI offer my respectful obeisances unto the lotus feet of my spiritual master \\nand unto the feet of all Vaiñëavas. I offer my respectful obeisances unto the \\nlotus feet of Çréla Rüpa Gosvämé along with his elder brother Sanätana \\nGosvämé, as well as Raghunätha Däsa and Raghunätha Bhaööa, Gopäla \\nBhaööa, and Çréla Jéva Gosvämé. I offer my respectful obeisances to Lord \\nKåñëa Caitanya and Lord Nityänanda along with Advaita Äcärya, \\nGadädhara, Çréväsa, and other associates. I offer my respectful obeisances to \\nÇrématé Rädhäräëé and Çré Kåñëa along with Their associates Çré Lalitä and \\nViçäkhä.\\nhe kåñëa karuëä-sindho\\ndéna-bandho jagat-pate\\ngopeça gopikä-känta\\nrädhä-känta namo \\'stu te\\nO my dear Kåñëa, You are the friend of the distressed and the source of \\ncreation. You are the master of the gopés and the lover of Rädhäräëé. I offer \\nmy respectful obeisances unto You.\\ntapta-käïcana-gauräìgi\\nrädhe våndävaneçvari\\nvåñabhänu-sute devi\\npraëamämi hari-priye\\n    Introduction Page 82    \\npraëamämi hari-priye\\nI offer my respects to Rädhäräëé, whose bodily complexion is like molten \\ngold and who is the Queen of Våndävana. You are the daughter of King \\nVåñabhänu, and You are very dear to Lord Kåñëa.\\nväïchä-kalpatarubhyaç ca\\nkåpä-sindhubhya eva ca\\npatitänäà pävanebhyo\\nvaiñëavebhyo namo namaù\\nI offer my respectful obeisances unto all the Vaiñëava devotees of the Lord. \\nThey can fulfill the desires of everyone, just like desire trees, and they are \\nfull of compassion for the fallen souls.\\nçré-kåñëa-caitanya\\nprabhu-nityänanda\\nçré-advaita gadädhara\\nçréväsädi-gaura-bhakta-vånda\\nI offer my obeisances to Çré Kåñëa Caitanya, Prabhu Nityänanda, Çré \\nAdvaita, Gadädhara, Çréväsa and all others in the line of devotion.\\nhare kåñëa hare kåñëa\\nkåñëa kåñëa hare hare\\nhare räma hare räma\\nräma räma hare hare\\nWhat is the position of Bhagavad Gita in Vedic tradition?\\nBhagavad-gétä is also known as Gétopaniñad. It is the essence of Vedic \\nknowledge and one of the most important Upaniñads in Vedic literature. \\nHow is Srila Prabhupada\\'s Bhagavad Gita different from all \\nother versions? - 2\\nOf course there are many commentaries in English on the Bhagavad-gétä, \\nand one may question the necessity for another one. This present edition \\ncan be explained in the following way. Recently an American lady asked me \\nto recommend an English translation of Bhagavad-gétä. Of course in \\nAmerica there are so many editions of Bhagavad-gétä available in English, \\nbut as far as I have seen, not only in America but also in India, none of \\nthem can be strictly said to be authoritative because in almost every one of \\nthem the commentator has expressed his own opinions without touching \\nthe spirit of Bhagavad-gétä as it is.\\nWhat is the spirit of Bhagavad Gita ? - 1\\nThe spirit of Bhagavad-gétä is mentioned in Bhagavad-gétä itself. It is just \\nlike this: If we want to take a particular medicine, then we have to follow \\nthe directions written on the label. We cannot take the medicine according \\nto our own whim or the direction of a friend. It must be taken according to \\n    Introduction Page 83    \\nto our own whim or the direction of a friend. It must be taken according to \\nthe directions on the label or the directions given by a physician. Similarly, \\nBhagavad-gétä should be taken or accepted as it is directed by the speaker \\nHimself. The speaker of Bhagavad-gétä is Lord Çré Kåñëa. He is mentioned \\non every page of Bhagavad-gétä as the Supreme Personality of Godhead, \\nBhagavän. Of course the word bhagavän sometimes refers to any powerful \\nperson or any powerful demigod, and certainly here bhagavän designates \\nLord Çré Kåñëa as a great personality, but at the same time we should know \\nthat Lord Çré Kåñëa is the Supreme Personality of Godhead, as is confirmed \\nby all great äcäryas (spiritual masters) like Çaìkaräcärya, Rämänujäcärya, \\nMadhväcärya, Nimbärka Svämé, Çré Caitanya Mahäprabhu and many other \\nauthorities of Vedic knowledge in India. The Lord Himself also establishes \\nHimself as the Supreme Personality of Godhead in the Bhagavad-gétä, and \\nHe is accepted as such in the Brahma-saàhitä and all the Puräëas, \\nespecially the Çrémad-Bhägavatam, known as the Bhägavata Puräëa (kåñëas \\ntu bhagavän svayam [SB 1.3.28]). Therefore we should take Bhagavad-gétä \\nas it is directed by the Personality of Godhead Himself. \\nFrom Historical point of view what is the origin of Bhagavad \\nGita ?\\nIn the Fourth Chapter of the Gétä (4.1-3) the Lord says:\\nimaà vivasvate yogaà\\nproktavän aham avyayam\\nvivasvän manave präha\\nmanur ikñväkave \\'bravét\\n[Bg. 4.1]\\nevaà paramparä-präptam\\nimaà räjarñayo viduù\\nsa käleneha mahatä\\nyogo nañöaù parantapa\\n[Bg. 4.2]\\nsa eväyaà mayä te \\'dya\\nyogaù proktaù purätanaù\\nbhakto \\'si me sakhä ceti\\nrahasyaà hy etad uttamam\\n[Bg. 4.3]\\nHere the Lord informs Arjuna that this system of yoga, the Bhagavad-gétä, \\nwas first spoken to the sun-god, and the sun-god explained it to Manu, and \\nManu explained it to Ikñväku, and in that way, by disciplic succession, one \\nspeaker after another, this yoga system has been coming down. But in the \\ncourse of time it has become lost. Consequently the Lord has to speak it \\nagain, this time to Arjuna on the Battlefield of Kurukñetra.\\nWhat is the quality one must develop me best understand \\n    Introduction Page 84    \\nWhat is the quality one must develop me best understand \\nBhagavad Gita ? - 1\\nHe tells Arjuna that He is relating this supreme secret to him because \\nArjuna is His devotee and His friend. The purport of this is that Bhagavad-\\ngétä is a treatise which is especially meant for the devotee of the Lord.\\nThere are three classes of transcendentalists, namely the jïäné, the yogé and \\nthe bhakta, or the impersonalist, the meditator and the devotee. Here the \\nLord clearly tells Arjuna that He is making him the first receiver of a new \\nparamparä (disciplic succession) because the old succession was broken. It \\nwas the Lord\\'s wish, therefore, to establish another paramparä in the same \\nline of thought that was coming down from the sun-god to others, and it \\nwas His wish that His teaching be distributed anew by Arjuna. He wanted \\nArjuna to become the authority in understanding the Bhagavad-gétä. So we \\nsee that Bhagavad-gétä is instructed to Arjuna especially because Arjuna \\nwas a devotee of the Lord, a direct student of Kåñëa, and His intimate \\nfriend. Therefore Bhagavad-gétä is best understood by a person who has \\nqualities similar to Arjuna\\'s. That is to say he must be a devotee in a direct \\nrelationship with the Lord.\\nWhat does it mean to be a DEVOTEE of the Lord?\\nAs soon as one becomes a devotee of the Lord, he also has a direct \\nrelationship with the Lord. That is a very elaborate subject matter, but \\nbriefly it can be stated that a devotee is in a relationship with the Supreme \\nPersonality of Godhead in one of five different ways:\\n1. One may be a devotee in a passive state;\\n2. One may be a devotee in an active state;\\n3. One may be a devotee as a friend;\\n4. One may be a devotee as a parent;\\n5. One may be a devotee as a conjugal lover.\\nHow can I have relationship with Krishna just like Arjuna had?\\nArjuna was in a relationship with the Lord as friend. Of course there is a \\ngulf of difference between this friendship and the friendship found in the \\nmaterial world. This is transcendental friendship, which cannot be had by \\neveryone. Of course everyone has a particular relationship with the Lord, \\nand that relationship is evoked by the perfection of devotional service. But \\nin the present status of our life, not only have we forgotten the Supreme \\nLord, but we have forgotten our eternal relationship with the Lord. Every \\nliving being, out of the many, many billions and trillions of living beings, \\nhas a particular relationship with the Lord eternally. That is called svarüpa. \\nBy the process of devotional service, one can revive that svarüpa, and that \\nstage is called svarüpa-siddhi—perfection of one\\'s constitutional position.\\nSo Arjuna was a devotee, and he was in touch with the Supreme Lord in \\n    Introduction Page 85    \\nSo Arjuna was a devotee, and he was in touch with the Supreme Lord in \\nfriendship.\\nHow did Arjuna accept Bhagavad Gita ?\\nHow Arjuna accepted this Bhagavad-gétä should be noted. His manner of \\nacceptance is given in the Tenth Chapter (10.12-14):\\narjuna uväca\\nparaà brahma paraà dhäma\\npavitraà paramaà bhavän\\npuruñaà çäçvataà divyam\\nädi-devam ajaà vibhum\\nähus tväm åñayaù sarve\\ndevarñir näradas tathä\\nasito devalo vyäsaù\\nsvayaà caiva bravéñi me\\nsarvam etad åtaà manye\\nyan mäà vadasi keçava\\nna hi te bhagavan vyaktià\\nvidur devä na dänaväù\\n\"Arjuna said: You are the Supreme Personality of Godhead, the ultimate \\nabode, the purest, the Absolute Truth. You are the eternal, transcendental, \\noriginal person, the unborn, the greatest. All the great sages such as \\nNärada, Asita, Devala, and Vyäsa confirm this truth about You, and now \\nYou Yourself are declaring it to me. O Kåñëa, I totally accept as truth all \\nthat You have told me. Neither the demigods nor the demons, O Lord, can \\nunderstand Your personality.\"\\nAfter hearing Bhagavad-gétä from the Supreme Personality of Godhead, \\nArjuna accepted Kåñëa as paraà brahma, the Supreme Brahman. Every \\nliving being is Brahman, but the supreme living being, or the Supreme \\nPersonality of Godhead, is the Supreme Brahman. Paraà dhäma means that \\nHe is the supreme rest or abode of everything; pavitram means that He is \\npure, untainted by material contamination; puruñam means that He is the \\nsupreme enjoyer; çäçvatam, original; divyam, transcendental; ädi-devam, \\nthe Supreme Personality of Godhead; ajam, the unborn; and vibhum, the \\ngreatest.\\nNow one may think that because Kåñëa was the friend of Arjuna, Arjuna \\nwas telling Him all this by way of flattery, but Arjuna, just to drive out this \\nkind of doubt from the minds of the readers of Bhagavad-gétä, substantiates \\nthese praises in the next verse when he says that Kåñëa is accepted as the \\nSupreme Personality of Godhead not only by himself but by authorities like \\nNärada, Asita, Devala and Vyäsadeva. These are great personalities who \\ndistribute the Vedic knowledge as it is accepted by all äcäryas. Therefore \\nArjuna tells Kåñëa that he accepts whatever He says to be completely \\nperfect. Sarvam etad åtaà manye: \"I accept everything You say to be true.\" \\n    Introduction Page 86    \\nperfect. Sarvam etad åtaà manye: \"I accept everything You say to be true.\" \\nWhat is Arjuna\\'s opinion about UNDERSTANDING Krishna?\\nArjuna also says that the personality of the Lord is very difficult to \\nunderstand and that He cannot be known even by the great demigods. This \\nmeans that the Lord cannot even be known by personalities greater than \\nhuman beings. So how can a human being understand Lord Çré Kåñëa \\nwithout becoming His devotee?\\nWhat is the spirit of Bhagavad Gita ? - 2\\nTherefore Bhagavad-gétä should be taken up in a spirit of devotion. One \\nshould not think that he is equal to Kåñëa, nor should he think that Kåñëa \\nis an ordinary personality or even a very great personality. Lord Çré Kåñëa is \\nthe Supreme Personality of Godhead. So according to the statements of \\nBhagavad-gétä or the statements of Arjuna, the person who is trying to \\nunderstand the Bhagavad-gétä, we should at least theoretically accept Çré \\nKåñëa as the Supreme Personality of Godhead, and with that submissive \\nspirit we can understand the Bhagavad-gétä. Unless one reads the Bhagavad-\\ngétä in a submissive spirit, it is very difficult to understand Bhagavad-gétä, \\nbecause it is a great mystery.\\nWhat is the purpose of Bhagavad Gita ?\\nHow is Bhagavad Gita relevant to my life?\\nJust what is the Bhagavad-gétä? The purpose of Bhagavad-gétä is to deliver \\nmankind from the nescience of material existence. Every man is in \\ndifficulty in so many ways, as Arjuna also was in difficulty in having to \\nfight the Battle of Kurukñetra. Arjuna surrendered unto Çré Kåñëa, and \\nconsequently this Bhagavad-gétä was spoken. Not only Arjuna, but every \\none of us is full of anxieties because of this material existence. \\nWhy is our present state of existence INCOMPATIBLE with our \\ntrue nature?\\nOur very existence is in the atmosphere of nonexistence. Actually we are \\nnot meant to be threatened by nonexistence. Our existence is eternal. But \\nsomehow or other we are put into asat. Asat refers to that which does not \\nexist.\\nWhat is the quality one must develop me best understand \\nBhagavad Gita ? - 2\\nOut of so many human beings who are suffering, there are a few who are \\nactually inquiring about their position, as to what they are, why they are \\nput into this awkward position and so on. Unless one is awakened to this \\nposition of questioning his suffering, unless he realizes that he doesn\\'t want \\n    Introduction Page 87    \\nposition of questioning his suffering, unless he realizes that he doesn\\'t want \\nsuffering but rather wants to make a solution to all suffering, then one is \\nnot to be considered a perfect human being. Humanity begins when this \\nsort of inquiry is awakened in one\\'s mind. In the Brahma-sütra this inquiry \\nis called brahma jijïäsä. Athäto brahma jijïäsä. Every activity of the human \\nbeing is to be considered a failure unless he inquires about the nature of the \\nAbsolute. Therefore those who begin to question why they are suffering or \\nwhere they came from and where they shall go after death are proper \\nstudents for understanding Bhagavad-gétä. The sincere student should also \\nhave a firm respect for the Supreme Personality of Godhead. Such a student \\nwas Arjuna.\\nTo what kind of person is Krishna\\'s Bhagavad Gita will actually \\nmake sense?\\nLord Kåñëa descends specifically to reestablish the real purpose of life when \\nman forgets that purpose. Even then, out of many, many human beings \\nwho awaken, there may be one who actually enters the spirit of \\nunderstanding his position, and for him this Bhagavad-gétä is spoken.\\nWho was the target audience for Bhagavad Gita when Krishna \\nspoke it?\\nActually we are all swallowed by the tigress of nescience, but the Lord is \\nvery merciful upon living entities, especially human beings. To this end He \\nspoke the Bhagavad-gétä, making His friend Arjuna His student.\\nIf Arjuna was a pure devotee then why did he fall into \\nbewilderment on the battlefield?\\nBeing an associate of Lord Kåñëa, Arjuna was above all ignorance, but \\nArjuna was put into ignorance on the Battlefield of Kurukñetra just to \\nquestion Lord Kåñëa about the problems of life so that the Lord could \\nexplain them for the benefit of future generations of human beings and \\nchalk out the plan of life. Then man could act accordingly and perfect the \\nmission of human life.\\nWhat are the main themes around which Bhagavad Gita \\nrevolves? - 1\\nThe subject of the Bhagavad-gétä entails the comprehension of five basic \\ntruths. First of all, the science of God is explained and then the \\nconstitutional position of the living entities, jévas. There is éçvara, which \\nmeans the controller, and there are jévas, the living entities which are \\ncontrolled. If a living entity says that he is not controlled but that he is free, \\nthen he is insane. The living being is controlled in every respect, at least in \\nhis conditioned life. So in the Bhagavad-gétä the subject matter deals with \\n    Introduction Page 88    \\nhis conditioned life. So in the Bhagavad-gétä the subject matter deals with \\nthe éçvara, the supreme controller, and the jévas, the controlled living \\nentities. Prakåti (material nature) and time (the duration of existence of the \\nwhole universe or the manifestation of material nature) and karma \\n(activity) are also discussed. The cosmic manifestation is full of different \\nactivities. All living entities are engaged in different activities. From \\nBhagavad-gétä we must learn what God is, what the living entities are, what \\nprakåti is, what the cosmic manifestation is, how it is controlled by time, \\nand what the activities of the living entities are.\\nWhat is the position of Ishvara?\\nOut of these five basic subject matters in Bhagavad-gétä it is established that \\nthe Supreme Godhead, or Kåñëa, or Brahman, or the supreme controller, or \\nParamätmä—you may use whatever name you like—is the greatest of all. \\nThe living beings are in quality like the supreme controller. For instance, \\nthe Lord has control over the universal affairs of material nature, as will be \\nexplained in the later chapters of Bhagavad-gétä. Material nature is not \\nindependent. She is acting under the directions of the Supreme Lord. As \\nLord Kåñëa says, mayädhyakñeëa prakåtiù süyate sa-caräcaram: \"This \\nmaterial nature is working under My direction.\" When we see wonderful \\nthings happening in the cosmic nature, we should know that behind this \\ncosmic manifestation there is a controller. Nothing could be manifested \\nwithout being controlled. It is childish not to consider the controller. For \\ninstance, a child may think that an automobile is quite wonderful to be able \\nto run without a horse or other animal pulling it, but a sane man knows the \\nnature of the automobile\\'s engineering arrangement. He always knows that \\nbehind the machinery there is a man, a driver. Similarly, the Supreme Lord \\nis the driver under whose direction everything is working.\\nWhat is the position of Jivas?\\nNow the jévas, or the living entities, have been accepted by the Lord, as we \\nwill note in the later chapters, as His parts and parcels. A particle of gold is \\nalso gold, a drop of water from the ocean is also salty, and similarly we the \\nliving entities, being part and parcel of the supreme controller, éçvara, or \\nBhagavän, Lord Çré Kåñëa, have all the qualities of the Supreme Lord in \\nminute quantity because we are minute éçvaras, subordinate éçvaras. We are \\ntrying to control nature, as presently we are trying to control space or \\nplanets, and this tendency to control is there because it is in Kåñëa. But \\nalthough we have a tendency to lord it over material nature, we should \\nknow that we are not the supreme controller. This is explained in \\nBhagavad-gétä.\\nWhat is material nature? \\nWhat is the difference and similarities between material nature \\n    Introduction Page 89    \\nWhat is the difference and similarities between material nature \\n& Jiva?\\nWhat is material nature? This is also explained in Gétä as inferior prakåti, \\ninferior nature. The living entity is explained as the superior prakåti. \\nPrakåti is always under control, whether inferior or superior. Prakåti is \\nfemale, and she is controlled by the Lord just as the activities of a wife are \\ncontrolled by the husband. Prakåti is always subordinate, predominated by \\nthe Lord, who is the predominator. The living entities and material nature \\nare both predominated, controlled by the Supreme Lord. According to the \\nGétä, the living entities, although parts and parcels of the Supreme Lord, \\nare to be considered prakåti. This is clearly mentioned in the Seventh \\nChapter of Bhagavad-gétä. Apareyam itas tv anyäà prakåtià viddhi me \\nparäm/ jéva-bhütäm: \"This material nature is My inferior prakåti, but \\nbeyond this is another prakåti-jéva-bhütäm, the living entity.\"\\nMaterial nature itself is constituted by three qualities: the mode of \\ngoodness, the mode of passion and the mode of ignorance.\\nHow Time and Karma play a role in the Universe?\\nAbove these modes there is eternal time, and by a combination of these \\nmodes of nature and under the control and purview of eternal time there \\nare activities, which are called karma. These activities are being carried out \\nfrom time immemorial, and we are suffering or enjoying the fruits of our \\nactivities. For instance, suppose I am a businessman and have worked very \\nhard with intelligence and have amassed a great bank balance. Then I am \\nan enjoyer. But then say I have lost all my money in business; then I am a \\nsufferer. Similarly, in every field of life we enjoy the results of our work, or \\nwe suffer the results. This is called karma.\\nWhat are the main themes around which Bhagavad Gita \\nrevolves? - 2\\nÉçvara (the Supreme Lord), jéva (the living entity), prakåti (nature), käla \\n(eternal time) and karma (activity) are all explained in the Bhagavad-gétä. \\nSince material nature is continuously changing does it cease to \\nexist one day?\\nOut of these five, the Lord, the living entities, material nature and time are \\neternal. The manifestation of prakåti may be temporary, but it is not false.\\nSome philosophers say that the manifestation of material nature is false, but \\naccording to the philosophy of Bhagavad-gétä or according to the \\nphilosophy of the Vaiñëavas, this is not so. The manifestation of the world \\nis not accepted as false; it is accepted as real, but temporary. It is likened \\nunto a cloud which moves across the sky, or the coming of the rainy \\nseason, which nourishes grains. As soon as the rainy season is over and as \\n    Introduction Page 90    \\nseason, which nourishes grains. As soon as the rainy season is over and as \\nsoon as the cloud goes away, all the crops which were nourished by the \\nrain dry up. Similarly, this material manifestation takes place at a certain \\ninterval, stays for a while and then disappears. Such are the workings of \\nprakåti. But this cycle is working eternally. Therefore prakåti is eternal; it is \\nnot false. The Lord refers to this as \"My prakåti.\" This material nature is the \\nseparated energy of the Supreme Lord, and similarly the living entities are \\nalso the energy of the Supreme Lord, although they are not separated but \\neternally related. \\nWhat is the speciality of Karma among the 5 main topics \\ndiscussed in Bhagavad Gita ?\\nIs it possible to change my Karma? - 1\\nSo the Lord, the living entity, material nature and time are all interrelated \\nand are all eternal. However, the other item, karma, is not eternal. The \\neffects of karma may be very old indeed. We are suffering or enjoying the \\nresults of our activities from time immemorial, but we can change the \\nresults of our karma, or our activity, and this change depends on the \\nperfection of our knowledge. We are engaged in various activities. \\nUndoubtedly we do not know what sort of activities we should adopt to \\ngain relief from the actions and reactions of all these activities, but this is \\nalso explained in the Bhagavad-gétä.\\nWhy is the Jiva called as Superior energy to Material nature?\\nThe position of éçvara, the Supreme Lord, is that of supreme consciousness. \\nThe jévas, or the living entities, being parts and parcels of the Supreme \\nLord, are also conscious. Both the living entity and material nature are \\nexplained as prakåti, the energy of the Supreme Lord, but one of the two, \\nthe jéva, is conscious. The other prakåti is not conscious. That is the \\ndifference. Therefore the jéva-prakåti is called superior because the jéva has \\nconsciousness which is similar to the Lord\\'s. \\nSince Jiva is Superior energy can it be equated to the Supreme \\nLord or is it possible to attain that stage of equality?\\nThe Lord\\'s is supreme consciousness, however, and one should not claim \\nthat the jéva, the living entity, is also supremely conscious. The living being \\ncannot be supremely conscious at any stage of his perfection, and the \\ntheory that he can be so is a misleading theory. Conscious he may be, but \\nhe is not perfectly or supremely conscious.\\nThe distinction between the jéva and the éçvara will be explained in the \\nThirteenth Chapter of Bhagavad-gétä. The Lord is kñetra-jïa, conscious, as \\nis the living being, but the living being is conscious of his particular body, \\nwhereas the Lord is conscious of all bodies. Because He lives in the heart of \\n    Introduction Page 91    \\nwhereas the Lord is conscious of all bodies. Because He lives in the heart of \\nevery living being, He is conscious of the psychic movements of the \\nparticular jévas. We should not forget this. It is also explained that the \\nParamätmä, the Supreme Personality of Godhead, is living in everyone\\'s \\nheart as éçvara, as the controller, and that He is giving directions for the \\nliving entity to act as he desires. The living entity forgets what to do. \\nHow does a Jiva decide his own destiny?\\nFirst of all he makes a determination to act in a certain way, and then he is \\nentangled in the actions and reactions of his own karma. After giving up \\none type of body, he enters another type of body, as we take off and put on \\nclothes. As the soul thus migrates, he suffers the actions and reactions of \\nhis past activities.\\nIs it possible to change my Karma? - 2\\nThese activities can be changed when the living being is in the mode of \\ngoodness, in sanity, and understands what sort of activities he should \\nadopt. If he does so, then all the actions and reactions of his past activities \\ncan be changed. Consequently, karma is not eternal. Therefore we stated \\nthat of the five items (éçvara, jéva, prakåti, time and karma) four are eternal, \\nwhereas karma is not eternal.\\nIs it true that consciousness originates from matter?\\nThe supreme conscious éçvara is similar to the living entity in this way: \\nboth the consciousness of the Lord and that of the living entity are \\ntranscendental. It is not that consciousness is generated by the association \\nof matter. That is a mistaken idea. The theory that consciousness develops \\nunder certain circumstances of material combination is not accepted in the \\nBhagavad-gétä. Consciousness may be pervertedly reflected by the covering \\nof material circumstances, just as light reflected through colored glass may \\nappear to be a certain color, but the consciousness of the Lord is not \\nmaterially affected. \\nAlthough I & Lord both are having consciousness, apart from \\nmagnitude what else is the difference? - 1\\nLord Kåñëa says, mayädhyakñeëa prakåtiù [Bg. 9.10]. When He descends \\ninto the material universe, His consciousness is not materially affected. If \\nHe were so affected, He would be unfit to speak on transcendental matters \\nas He does in the Bhagavad-gétä. One cannot say anything about the \\ntranscendental world without being free from materially contaminated \\nconsciousness. So the Lord is not materially contaminated. Our \\nconsciousness, at the present moment, however, is materially \\ncontaminated.\\n    Introduction Page 92    \\ncontaminated.\\nWhy is the need for purification of the soul by Devotional \\nService ?\\nThe Bhagavad-gétä teaches that we have to purify this materially \\ncontaminated consciousness. In pure consciousness, our actions will be \\ndovetailed to the will of éçvara, and that will make us happy.\\nWhat is the difference between Bhakti and ordinary work?\\nIt is not that we have to cease all activities. Rather, our activities are to be \\npurified, and purified activities are called bhakti. Activities in bhakti appear \\nto be like ordinary activities, but they are not contaminated. An ignorant \\nperson may see that a devotee is acting or working like an ordinary man, \\nbut such a person with a poor fund of knowledge does not know that the \\nactivities of the devotee or of the Lord are not contaminated by impure \\nconsciousness or matter. They are transcendental to the three modes of \\nnature. We should know, however, that at this point our consciousness is \\ncontaminated.\\nWhat is the symptom of a materially contaminated or \\nconditioned soul? - 1\\nWhen we are materially contaminated, we are called conditioned. False \\nconsciousness is exhibited under the impression that I am a product of \\nmaterial nature. This is called false ego. One who is absorbed in the \\nthought of bodily conceptions cannot understand his situation.\\nWhat is the desired expectation of impact as intended by \\nKrishna that I must have upon reading Bhagavad Gita ?\\nBhagavad-gétä was spoken to liberate one from the bodily conception of \\nlife, and Arjuna put himself in this position in order to receive this \\ninformation from the Lord. One must become free from the bodily \\nconception of life; that is the preliminary activity for the transcendentalist. \\nOne who wants to become free, who wants to become liberated, must first \\nof all learn that he is not this material body. Mukti, or liberation, means \\nfreedom from material consciousness. In the Çrémad-Bhägavatam also the \\ndefinition of liberation is given. Muktir hitvänyathä-rüpaà svarüpeëa \\nvyavasthitiù: [SB 2.10.6] mukti means liberation from the contaminated \\nconsciousness of this material world and situation in pure consciousness. \\nAll the instructions of Bhagavad-gétä are intended to awaken this pure \\nconsciousness, and therefore we find at the last stage of the Gétä\\'s \\ninstructions that Kåñëa is asking Arjuna whether he is now in purified \\nconsciousness. \\n    Introduction Page 93    \\nWhat does it mean to be purified or symptoms of purified \\nconsciousness?\\nPurified consciousness means acting in accordance with the instructions of \\nthe Lord. This is the whole sum and substance of purified consciousness.\\nAlthough I & Lord both are having consciousness, apart from \\nmagnitude what else is the difference? - 2\\nConsciousness is already there because we are part and parcel of the Lord, \\nbut for us there is the affinity of being affected by the inferior modes. But \\nthe Lord, being the Supreme, is never affected. That is the difference \\nbetween the Supreme Lord and the small individual souls.\\nWhat is the symptom of a materially contaminated or \\nconditioned soul? - 2\\nWhat is this consciousness? This consciousness is \"I am.\" Then what am I? \\nIn contaminated consciousness \"I am\" means \"I am the lord of all I survey.\\nI am the enjoyer.\" The world revolves because every living being thinks \\nthat he is the lord and creator of the material world. Material consciousness \\nhas two psychic divisions. One is that I am the creator, and the other is that \\nI am the enjoyer.\\nIf trying to be enjoyer and claiming to be creator is FALSE or \\nCONTAMINATED CONSCIOUSNESS then as Jiva, what is my \\nactual position?\\nBut actually the Supreme Lord is both the creator and the enjoyer, and the \\nliving entity, being part and parcel of the Supreme Lord, is neither the \\ncreator nor the enjoyer, but a cooperator. He is the created and the enjoyed. \\nFor instance, a part of a machine cooperates with the whole machine; a part \\nof the body cooperates with the whole body. The hands, legs, eyes, and so \\non are all parts of the body, but they are not actually the enjoyers. The \\nstomach is the enjoyer. The legs move, the hands supply food, the teeth \\nchew, and all parts of the body are engaged in satisfying the stomach \\nbecause the stomach is the principal factor that nourishes the body\\'s \\norganization. Therefore everything is given to the stomach. One nourishes \\nthe tree by watering its root, and one nourishes the body by feeding the \\nstomach, for if the body is to be kept in a healthy state, then the parts of the \\nbody must cooperate to feed the stomach. Similarly, the Supreme Lord is \\nthe enjoyer and the creator, and we, as subordinate living beings, are meant \\nto cooperate to satisfy Him. This cooperation will actually help us, just as \\nfood taken by the stomach will help all other parts of the body. If the \\nfingers of the hand think that they should take the food themselves instead \\nof giving it to the stomach, then they will be frustrated. The central figure \\n    Introduction Page 94    \\nof giving it to the stomach, then they will be frustrated. The central figure \\nof creation and of enjoyment is the Supreme Lord, and the living entities \\nare cooperators. By cooperation they enjoy. The relation is also like that of \\nthe master and the servant. If the master is fully satisfied, then the servant \\nis satisfied. Similarly, the Supreme Lord should be satisfied, although the \\ntendency to become the creator and the tendency to enjoy the material \\nworld are there also in the living entities because these tendencies are there \\nin the Supreme Lord who has created the manifested cosmic world.\\nHow does the 5 topics in Bhagavad Gita relate to Krishna, who \\nis speaking it?\\nWe shall find, therefore, in this Bhagavad-gétä that the complete whole is \\ncomprised of the supreme controller, the controlled living entities, the \\ncosmic manifestation, eternal time and karma, or activities, and all of these \\nare explained in this text. All of these taken completely form the complete \\nwhole, and the complete whole is called the Supreme Absolute Truth. The \\ncomplete whole and the complete Absolute Truth are the complete \\nPersonality of Godhead, Çré Kåñëa. All manifestations are due to His \\ndifferent energies. He is the complete whole.\\nHow is Krishna COMPLETE not only w.r.t material \\nmanifestation but even from spiritual perfection?\\nIt is also explained in the Gétä that impersonal Brahman is also subordinate \\nto the complete Supreme Person (brahmaëo hi pratiñöhäham). Brahman is \\nmore explicitly explained in the Brahma-sütra to be like the rays of the \\nsunshine. The impersonal Brahman is the shining rays of the Supreme \\nPersonality of Godhead. Impersonal Brahman is incomplete realization of \\nthe absolute whole, and so also is the conception of Paramätmä. In the \\nFifteenth Chapter it shall be seen that the Supreme Personality of Godhead, \\nPuruñottama, is above both impersonal Brahman and the partial realization \\nof Paramätmä. The Supreme Personality of Godhead is called sac-cid-\\nänanda-vigraha. The Brahma-saàhitä begins in this way: éçvaraù paramaù \\nkåñëaù sac-cid-änanda-vigrahaù/ anädir ädir govindaù sarva-käraëa-\\nkäraëam. \"Govinda, Kåñëa, is the cause of all causes. He is the primal \\ncause, and He is the very form of eternity, knowledge and bliss.\" \\nImpersonal Brahman realization is the realization of His sat (eternity) \\nfeature. Paramätmä realization is the realization of sat-cit (eternal \\nknowledge). But realization of the Personality of Godhead, Kåñëa, is \\nrealization of all the transcendental features: sat, cit and änanda (eternity, \\nknowledge, and bliss) in complete vigraha (form). People with less \\nintelligence consider the Supreme Truth to be impersonal, but He is a \\ntranscendental person, and this is confirmed in all Vedic literatures. Nityo \\nnityänäà cetanaç cetanänäm. (Kaöha Upaniñad 2.2.13) As we are all \\n    Introduction Page 95    \\nnityänäà cetanaç cetanänäm. (Kaöha Upaniñad 2.2.13) As we are all \\nindividual living beings and have our individuality, the Supreme Absolute \\nTruth is also, in the ultimate issue, a person, and realization of the \\nPersonality of Godhead is realization of all of the transcendental features in \\nHis complete form. The complete whole is not formless. If He is formless, \\nor if He is less than any other thing, then He cannot be the complete whole. \\nThe complete whole must have everything within our experience and \\nbeyond our experience, otherwise it cannot be complete.\\nThe complete whole, Personality of Godhead, has immense potencies \\n(paräsya çaktir vividhaiva çrüyate [Cc. Madhya 13.65, purport]. How Kåñëa \\nis acting in different potencies is also explained in Bhagavad-gétä. \\nHow does Krishna operate the Material World ?\\nThis phenomenal world or material world in which we are placed is also \\ncomplete in itself because the twenty-four elements of which this material \\nuniverse is a temporary manifestation, according to Säìkhya philosophy, \\nare completely adjusted to produce complete resources which are necessary \\nfor the maintenance and subsistence of this universe. There is nothing \\nextraneous, nor is there anything needed. This manifestation has its own \\ntime fixed by the energy of the supreme whole, and when its time is \\ncomplete, these temporary manifestations will be annihilated by the \\ncomplete arrangement of the complete. \\nWhat is the reason for emptiness that people feel in their life?\\nThere is complete facility for the small complete units, namely the living \\nentities, to realize the complete, and all sorts of incompleteness are \\nexperienced due to incomplete knowledge of the complete. So Bhagavad-\\ngétä contains the complete knowledge of Vedic wisdom.\\nWhy should I wholeheartedly accept Vedic knowledge or \\nBhagavad Gita\\'s instructions IF I AM NOT ABLE TO \\nUNDERSTAND THEM or THEY APPEAR TO BE \\nUNREALISTIC?\\nWhat is it about the Vedic knowledge that makes it so special \\nand all correct or mistake-lesss?\\nAll Vedic knowledge is infallible, and Hindus accept Vedic knowledge to be \\ncomplete and infallible. For example, cow dung is the stool of an animal, \\nand according to småti, or Vedic injunction, if one touches the stool of an \\nanimal he has to take a bath to purify himself. But in the Vedic scriptures \\ncow dung is considered to be a purifying agent. One might consider this to \\nbe contradictory, but it is accepted because it is Vedic injunction, and \\nindeed by accepting this, one will not commit a mistake; subsequently it \\nhas been proved by modern science that cow dung contains all antiseptic \\n    Introduction Page 96    \\nhas been proved by modern science that cow dung contains all antiseptic \\nproperties. So Vedic knowledge is complete because it is above all doubts \\nand mistakes, and Bhagavad-gétä is the essence of all Vedic knowledge.\\nVedic knowledge is not a question of research. Our research work is \\nimperfect because we are researching things with imperfect senses. We \\nhave to accept perfect knowledge which comes down, as is stated in \\nBhagavad-gétä, by the paramparä (disciplic succession). We have to receive \\nknowledge from the proper source in disciplic succession beginning with \\nthe supreme spiritual master, the Lord Himself, and handed down to a \\nsuccession of spiritual masters. Arjuna, the student who took lessons from \\nLord Çré Kåñëa, accepts everything that He says without contradicting Him. \\nOne is not allowed to accept one portion of Bhagavad-gétä and not another. \\nNo. We must accept Bhagavad-gétä without interpretation, without deletion \\nand without our own whimsical participation in the matter. The Gétä \\nshould be taken as the most perfect presentation of Vedic knowledge. Vedic \\nknowledge is received from transcendental sources, and the first words \\nwere spoken by the Lord Himself. The words spoken by the Lord are called \\napauruñeya, meaning that they are different from words spoken by a person \\nof the mundane world who is infected with four defects. A mundaner (1) is \\nsure to commit mistakes, (2) is invariably illusioned, (3) has the tendency \\nto cheat others and (4) is limited by imperfect senses. With these four \\nimperfections, one cannot deliver perfect information of all-pervading \\nknowledge. Vedic knowledge is not imparted by such defective living \\nentities. It was imparted unto the heart of Brahmä, the first created living \\nbeing, and Brahmä in his turn disseminated this knowledge to his sons and \\ndisciples, as he originally received it from the Lord. \\nWith what understanding should I give up proprietorship of \\neverything in this world? How will I live then?  \\nThe Lord is pürëam, all-perfect, and there is no possibility of His becoming \\nsubjected to the laws of material nature. One should therefore be intelligent \\nenough to know that the Lord is the only proprietor of everything in the \\nuniverse and that He is the original creator, the creator of Brahmä. In the \\nEleventh Chapter the Lord is addressed as prapitämaha [Bg. 11.39] because \\nBrahmä is addressed as pitämaha, the grandfather, and He is the creator of \\nthe grandfather. So no one should claim to be the proprietor of anything; \\none should accept only things which are set aside for him by the Lord as \\nhis quota for his maintenance.\\nWhat kind of change in Paradigm is the study of Bhagavad Gita \\nexpected to bring about?\\nThere are many examples given of how we are to utilize those things which \\nare set aside for us by the Lord. This is also explained in Bhagavad-gétä. In \\n    Introduction Page 97    \\nare set aside for us by the Lord. This is also explained in Bhagavad-gétä. In \\nthe beginning, Arjuna decided that he should not fight in the Battle of \\nKurukñetra. This was his own decision. Arjuna told the Lord that it was not \\npossible for him to enjoy the kingdom after killing his own kinsmen. This \\ndecision was based on the body because he was thinking that the body was \\nhimself and that his bodily relations or expansions were his brothers, \\nnephews, brothers-in-law, grandfathers and so on. Therefore he wanted to \\nsatisfy his bodily demands. Bhagavad-gétä was spoken by the Lord just to \\nchange this view, and at the end Arjuna decides to fight under the \\ndirections of the Lord when he says, kariñye vacanaà tava [Bg. 18.73]: \"I \\nshall act according to Your word.\"\\nBefore studying Bhagavad Gita what is a decision one must \\nmake?\\nIn this world men are not meant for quarreling like cats and dogs. Men \\nmust be intelligent to realize the importance of human life and refuse to act \\nlike ordinary animals. A human being should realize the aim of his life, and \\nthis direction is given in all Vedic literatures, and the essence is given in \\nBhagavad-gétä. \\nOn a practical day to day basis how Bhagavad Gita can help me \\npurify myself apart from the lofty philosophical understanding \\n(e.g.: I am not this body)?\\nVedic literature is meant for human beings, not for animals. Animals can \\nkill other living animals, and there is no question of sin on their part, but if \\na man kills an animal for the satisfaction of his uncontrolled taste, he must \\nbe responsible for breaking the laws of nature. In the Bhagavad-gétä it is \\nclearly explained that there are three kinds of activities according to the \\ndifferent modes of nature: the activities of goodness, of passion and of \\nignorance. Similarly, there are three kinds of eatables also: eatables in \\ngoodness, passion and ignorance. All of this is clearly described, and if we \\nproperly utilize the instructions of Bhagavad-gétä, then our whole life will \\nbecome purified, and ultimately we will be able to reach the destination \\nwhich is beyond this material sky. [Bg. 15.6]\\nApart from this Material World, does Bhagavad Gita say \\nanything about the \"OTHER\" world?\\nThat destination is called the sanätana sky, the eternal, spiritual sky. In this \\nmaterial world we find that everything is temporary. It comes into being, \\nstays for some time, produces some by-products, dwindles and then \\nvanishes. That is the law of the material world, whether we use as an \\nexample this body, or a piece of fruit or anything. But beyond this \\n    Introduction Page 98    \\nexample this body, or a piece of fruit or anything. But beyond this \\ntemporary world there is another world of which we have information. \\nThat world consists of another nature, which is sanätana, eternal. Jéva is \\nalso described as sanätana, eternal, and the Lord is also described as \\nsanätana in the Eleventh Chapter. \\nWhat is the pure life that I will attain after purification that is \\noffered by Bhagavad Gita ?\\nWe have an intimate relationship with the Lord, and because we are all \\nqualitatively one—the sanätana-dhäma, or sky, the sanätana Supreme \\nPersonality and the sanätana living entities—the whole purpose of \\nBhagavad-gétä is to revive our sanätana occupation, or sanätana-dharma, \\nwhich is the eternal occupation of the living entity. We are temporarily \\nengaged in different activities, but all of these activities can be purified \\nwhen we give up all these temporary activities and take up the activities \\nwhich are prescribed by the Supreme Lord. That is called our pure life.\\nWhat is the perfection of human life?\\nThe Supreme Lord and His transcendental abode are both sanätana, as are \\nthe living entities, and the combined association of the Supreme Lord and \\nthe living entities in the sanätana abode is the perfection of human life. \\nWhat is the PRIME reason for the Lord to come and send His \\nrepresentatives to Material World ?\\nThe Lord is very kind to the living entities because they are His sons. Lord \\nKåñëa declares in Bhagavad-gétä, sarva-yoniñu. .. ahaà béja-pradaù pitä: \"I \\nam the father of all.\" Of course there are all types of living entities \\naccording to their various karmas, but here the Lord claims that He is the \\nfather of all of them. Therefore the Lord descends to reclaim all of these \\nfallen, conditioned souls, to call them back to the sanätana eternal sky so \\nthat the sanätana living entities may regain their eternal sanätana positions \\nin eternal association with the Lord. The Lord comes Himself in different \\nincarnations, or He sends His confidential servants as sons or His associates \\nor äcäryas to reclaim the conditioned souls.\\nWhich religious sect does \"Sanatana dharma\" belongs to?\\nTherefore, sanätana-dharma does not refer to any sectarian process of \\nreligion. It is the eternal function of the eternal living entities in \\nrelationship with the eternal Supreme Lord. Sanätana-dharma refers, as \\nstated previously, to the eternal occupation of the living entity. Çrépäda \\nRämänujäcärya has explained the word sanätana as \"that which has neither \\nbeginning nor end,\" so when we speak of sanätana-dharma, we must take it \\nfor granted on the authority of Çrépäda Rämänujäcärya that it has neither \\n    Introduction Page 99    \\nfor granted on the authority of Çrépäda Rämänujäcärya that it has neither \\nbeginning nor end.\\nHow is Sanatana Dharma different from other religious sects? \\nHow is Sanatana Dharma an unavoidable part of everyone in \\nthis universe?\\nThe English word religion is a little different from sanätana-dharma. \\nReligion conveys the idea of faith, and faith may change. One may have \\nfaith in a particular process, and he may change this faith and adopt \\nanother, but sanätana-dharma refers to that activity which cannot be \\nchanged. For instance, liquidity cannot be taken from water, nor can heat \\nbe taken from fire. Similarly, the eternal function of the eternal living entity \\ncannot be taken from the living entity. Sanätana-dharma is eternally \\nintegral with the living entity. When we speak of sanätana-dharma, \\ntherefore, we must take it for granted on the authority of Çrépäda \\nRämänujäcärya that it has neither beginning nor end. That which has \\nneither end nor beginning must not be sectarian, for it cannot be limited by \\nany boundaries. Those belonging to some sectarian faith will wrongly \\nconsider that sanätana-dharma is also sectarian, but if we go deeply into the \\nmatter and consider it in the light of modern science, it is possible for us to \\nsee that sanätana-dharma is the business of all the people of the world—\\nnay, of all the living entities of the universe.\\nNon-sanätana religious faith may have some beginning in the annals of \\nhuman history, but there is no beginning to the history of sanätana-\\ndharma, because it remains eternally with the living entities. Insofar as the \\nliving entities are concerned, the authoritative çästras state that the living \\nentity has neither birth nor death. In the Gétä it is stated that the living \\nentity is never born and he never dies. He is eternal and indestructible, and \\nhe continues to live after the destruction of his temporary material body. \\nWhat is the proper universal understanding of Dharma?\\nIn reference to the concept of sanätana-dharma, we must try to understand \\nthe concept of religion from the Sanskrit root meaning of the word. \\nDharma refers to that which is constantly existing with a particular object.\\nWe conclude that there is heat and light along with the fire; without heat \\nand light, there is no meaning to the word fire. Similarly, we must discover \\nthe essential part of the living being, that part which is his constant \\ncompanion. That constant companion is his eternal quality, and that \\neternal quality is his eternal religion.\\nApart from Paramatma what is the constant companion \\nof the soul?\\n    Introduction Page 100    '"
      ]
     },
     "execution_count": 14,
     "metadata": {},
     "output_type": "execute_result"
    }
   ],
   "source": [
    "PageTextFilter"
   ]
  }
 ],
 "metadata": {
  "kernelspec": {
   "display_name": "Python 3",
   "language": "python",
   "name": "python3"
  },
  "language_info": {
   "codemirror_mode": {
    "name": "ipython",
    "version": 3
   },
   "file_extension": ".py",
   "mimetype": "text/x-python",
   "name": "python",
   "nbconvert_exporter": "python",
   "pygments_lexer": "ipython3",
   "version": "3.8.5"
  }
 },
 "nbformat": 4,
 "nbformat_minor": 5
}
